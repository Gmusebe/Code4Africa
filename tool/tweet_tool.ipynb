{
 "cells": [
  {
   "cell_type": "markdown",
   "metadata": {},
   "source": [
    "Install the snscrape package:"
   ]
  },
  {
   "cell_type": "code",
   "execution_count": 1,
   "metadata": {},
   "outputs": [
    {
     "name": "stdout",
     "output_type": "stream",
     "text": [
      "Defaulting to user installation because normal site-packages is not writeable\n",
      "Requirement already satisfied: snscrape in /home/musebe/.local/lib/python3.10/site-packages (0.4.3.20220106)\n",
      "Requirement already satisfied: lxml in /usr/lib/python3.10/site-packages (from snscrape) (4.8.0)\n",
      "Requirement already satisfied: requests[socks] in /usr/lib/python3.10/site-packages (from snscrape) (2.27.1)\n",
      "Requirement already satisfied: beautifulsoup4 in /home/musebe/.local/lib/python3.10/site-packages (from snscrape) (4.11.1)\n",
      "Requirement already satisfied: filelock in /home/musebe/.local/lib/python3.10/site-packages (from snscrape) (3.6.0)\n",
      "Requirement already satisfied: soupsieve>1.2 in /home/musebe/.local/lib/python3.10/site-packages (from beautifulsoup4->snscrape) (2.3.2)\n",
      "Requirement already satisfied: chardet>=3.0.2 in /usr/lib/python3.10/site-packages (from requests[socks]->snscrape) (4.0.0)\n",
      "Requirement already satisfied: idna>=2.5 in /usr/lib/python3.10/site-packages (from requests[socks]->snscrape) (3.3)\n",
      "Requirement already satisfied: urllib3>=1.21.1 in /usr/lib/python3.10/site-packages (from requests[socks]->snscrape) (1.26.9)\n",
      "Requirement already satisfied: PySocks!=1.5.7,>=1.5.6 in /home/musebe/.local/lib/python3.10/site-packages (from requests[socks]->snscrape) (1.7.1)\n",
      "Note: you may need to restart the kernel to use updated packages.\n"
     ]
    }
   ],
   "source": [
    "pip install snscrape"
   ]
  },
  {
   "cell_type": "markdown",
   "metadata": {},
   "source": [
    "Set Environment"
   ]
  },
  {
   "cell_type": "code",
   "execution_count": null,
   "metadata": {},
   "outputs": [],
   "source": [
    "import snscrape.modules.twitter as sntwitter\n",
    "import pandas as pd"
   ]
  },
  {
   "cell_type": "markdown",
   "metadata": {},
   "source": [
    "Extraction tool:"
   ]
  },
  {
   "cell_type": "code",
   "execution_count": null,
   "metadata": {},
   "outputs": [],
   "source": [
    "query = \"RacistEU until:2022-03-25 since:2022-02-27\"\n",
    "tweets = []\n",
    "limit = 10000\n",
    "\n",
    "for tweet in sntwitter.TwitterSearchScraper(query).get_items():\n",
    "  \n",
    "  # print(vars(tweet))\n",
    "  # break\n",
    "  if len(tweets) == limit:\n",
    "    break\n",
    "  else:\n",
    "    tweets.append([tweet.date,tweet.username,tweet.id, tweet.content, tweet.url, tweet.hashtags, tweet.likeCount, tweet.quoteCount, tweet.replyCount, tweet.retweetCount, tweet.retweetedTweet, tweet.sourceUrl ])\n",
    "\n",
    "df = pd.DataFrame(tweets)\n",
    "\n",
    "# Store Data:\n",
    "df.to_csv('/home/musebe/code/Code4Africa/data/RacistEU_tweets.csv')"
   ]
  }
 ],
 "metadata": {
  "interpreter": {
   "hash": "e7370f93d1d0cde622a1f8e1c04877d8463912d04d973331ad4851f04de6915a"
  },
  "kernelspec": {
   "display_name": "Python 3.10.4 64-bit",
   "language": "python",
   "name": "python3"
  },
  "language_info": {
   "codemirror_mode": {
    "name": "ipython",
    "version": 3
   },
   "file_extension": ".py",
   "mimetype": "text/x-python",
   "name": "python",
   "nbconvert_exporter": "python",
   "pygments_lexer": "ipython3",
   "version": "3.10.4"
  },
  "orig_nbformat": 4
 },
 "nbformat": 4,
 "nbformat_minor": 2
}

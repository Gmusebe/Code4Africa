{
 "cells": [
  {
   "cell_type": "markdown",
   "metadata": {},
   "source": [
    "# Twitter Extraction Tool\n",
    "install`snscrape` package:"
   ]
  },
  {
   "cell_type": "code",
   "execution_count": null,
   "metadata": {},
   "outputs": [],
   "source": [
    "!pip3 install snscrape"
   ]
  },
  {
   "cell_type": "markdown",
   "metadata": {},
   "source": [
    "Install `pandas`:"
   ]
  },
  {
   "cell_type": "code",
   "execution_count": null,
   "metadata": {},
   "outputs": [],
   "source": [
    "!pip3 install pandas"
   ]
  },
  {
   "cell_type": "code",
   "execution_count": 1,
   "metadata": {},
   "outputs": [],
   "source": [
    "# set environment:\n",
    "import snscrape.modules.twitter as sntwitter\n",
    "import pandas as pd\n",
    "\n",
    "# tool parameters, refine tweet search:\n",
    "query = \"RacistEU until:2022-03-25 since:2022-02-27\"\n",
    "limit = 10000\n",
    "\n",
    "# empty list\n",
    "tweets = []\n",
    "\n",
    "# column headers\n",
    "columns= ['url', 'datetime', 'tweet', 'tweet_id', 'mentioned_user', 'user',\n",
    "          'username', 'display_name', 'user_id', 'if_verified', 'acc_created', 'hashtags', \n",
    "          'likeCount', 'quoteCount', 'replyCount', 'retweetCount','retweetedTweet', 'source']\n",
    "\n",
    "# scrape function\n",
    "for tweet in sntwitter.TwitterSearchScraper(query).get_items():\n",
    "  if len(tweets) == limit:\n",
    "    break\n",
    "  else:\n",
    "    tweets.append([tweet.url, tweet.date, tweet.content, tweet.id, tweet.mentionedUsers, tweet.user,\n",
    "                  tweet.user.username,tweet.user.displayname, tweet.user.id, tweet.user.verified, tweet.user.created, tweet.hashtags,\n",
    "                  tweet.likeCount, tweet.quoteCount, tweet.replyCount, tweet.retweetCount, tweet.retweetedTweet, tweet.source])\n",
    "\n",
    "# # tweets dataframe:\n",
    "df = pd.DataFrame(tweets, columns=columns)\n",
    "\n",
    "# Store csv data in zip:\n",
    "df.to_csv('/home/musebe/code/Code4Africa/data/RacistEU_tweets.csv.gz', compression='gzip')"
   ]
  }
 ],
 "metadata": {
  "interpreter": {
   "hash": "e7370f93d1d0cde622a1f8e1c04877d8463912d04d973331ad4851f04de6915a"
  },
  "kernelspec": {
   "display_name": "Python 3.10.4 64-bit",
   "language": "python",
   "name": "python3"
  },
  "language_info": {
   "codemirror_mode": {
    "name": "ipython",
    "version": 3
   },
   "file_extension": ".py",
   "mimetype": "text/x-python",
   "name": "python",
   "nbconvert_exporter": "python",
   "pygments_lexer": "ipython3",
   "version": "3.10.4"
  },
  "orig_nbformat": 4
 },
 "nbformat": 4,
 "nbformat_minor": 2
}
